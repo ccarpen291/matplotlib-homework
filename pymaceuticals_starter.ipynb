{
 "cells": [
  {
   "cell_type": "markdown",
   "metadata": {},
   "source": [
    "## Observations and Insights"
   ]
  },
  {
   "cell_type": "markdown",
   "metadata": {},
   "source": []
  },
  {
   "cell_type": "markdown",
   "metadata": {},
   "source": [
    "## Dependencies and starter code"
   ]
  },
  {
   "cell_type": "code",
   "execution_count": 14,
   "metadata": {},
   "outputs": [
    {
     "data": {
      "text/html": [
       "<div>\n",
       "<style scoped>\n",
       "    .dataframe tbody tr th:only-of-type {\n",
       "        vertical-align: middle;\n",
       "    }\n",
       "\n",
       "    .dataframe tbody tr th {\n",
       "        vertical-align: top;\n",
       "    }\n",
       "\n",
       "    .dataframe thead th {\n",
       "        text-align: right;\n",
       "    }\n",
       "</style>\n",
       "<table border=\"1\" class=\"dataframe\">\n",
       "  <thead>\n",
       "    <tr style=\"text-align: right;\">\n",
       "      <th></th>\n",
       "      <th>Mouse ID</th>\n",
       "      <th>Drug Regimen</th>\n",
       "      <th>Sex</th>\n",
       "      <th>Age_months</th>\n",
       "      <th>Weight (g)</th>\n",
       "      <th>Timepoint</th>\n",
       "      <th>Tumor Volume (mm3)</th>\n",
       "      <th>Metastatic Sites</th>\n",
       "    </tr>\n",
       "  </thead>\n",
       "  <tbody>\n",
       "    <tr>\n",
       "      <td>0</td>\n",
       "      <td>k403</td>\n",
       "      <td>Ramicane</td>\n",
       "      <td>Male</td>\n",
       "      <td>21</td>\n",
       "      <td>16</td>\n",
       "      <td>0</td>\n",
       "      <td>45.000000</td>\n",
       "      <td>0</td>\n",
       "    </tr>\n",
       "    <tr>\n",
       "      <td>1</td>\n",
       "      <td>k403</td>\n",
       "      <td>Ramicane</td>\n",
       "      <td>Male</td>\n",
       "      <td>21</td>\n",
       "      <td>16</td>\n",
       "      <td>5</td>\n",
       "      <td>38.825898</td>\n",
       "      <td>0</td>\n",
       "    </tr>\n",
       "    <tr>\n",
       "      <td>2</td>\n",
       "      <td>k403</td>\n",
       "      <td>Ramicane</td>\n",
       "      <td>Male</td>\n",
       "      <td>21</td>\n",
       "      <td>16</td>\n",
       "      <td>10</td>\n",
       "      <td>35.014271</td>\n",
       "      <td>1</td>\n",
       "    </tr>\n",
       "    <tr>\n",
       "      <td>3</td>\n",
       "      <td>k403</td>\n",
       "      <td>Ramicane</td>\n",
       "      <td>Male</td>\n",
       "      <td>21</td>\n",
       "      <td>16</td>\n",
       "      <td>15</td>\n",
       "      <td>34.223992</td>\n",
       "      <td>1</td>\n",
       "    </tr>\n",
       "    <tr>\n",
       "      <td>4</td>\n",
       "      <td>k403</td>\n",
       "      <td>Ramicane</td>\n",
       "      <td>Male</td>\n",
       "      <td>21</td>\n",
       "      <td>16</td>\n",
       "      <td>20</td>\n",
       "      <td>32.997729</td>\n",
       "      <td>1</td>\n",
       "    </tr>\n",
       "  </tbody>\n",
       "</table>\n",
       "</div>"
      ],
      "text/plain": [
       "  Mouse ID Drug Regimen   Sex  Age_months  Weight (g)  Timepoint  \\\n",
       "0     k403     Ramicane  Male          21          16          0   \n",
       "1     k403     Ramicane  Male          21          16          5   \n",
       "2     k403     Ramicane  Male          21          16         10   \n",
       "3     k403     Ramicane  Male          21          16         15   \n",
       "4     k403     Ramicane  Male          21          16         20   \n",
       "\n",
       "   Tumor Volume (mm3)  Metastatic Sites  \n",
       "0           45.000000                 0  \n",
       "1           38.825898                 0  \n",
       "2           35.014271                 1  \n",
       "3           34.223992                 1  \n",
       "4           32.997729                 1  "
      ]
     },
     "execution_count": 14,
     "metadata": {},
     "output_type": "execute_result"
    }
   ],
   "source": [
    "# Dependencies and Setup\n",
    "import matplotlib.pyplot as plt\n",
    "import pandas as pd\n",
    "import numpy as np\n",
    "import scipy.stats as st\n",
    "\n",
    "# Study data files\n",
    "mouse_metadata = \"data/Mouse_metadata.csv\"\n",
    "study_results = \"data/Study_results.csv\"\n",
    "\n",
    "# Read the mouse data and the study results\n",
    "mouse_metadata = pd.read_csv(mouse_metadata)\n",
    "study_results = pd.read_csv(study_results)\n",
    "\n",
    "# Combine the data into a single dataset\n",
    "combined_data = pd.merge(mouse_metadata,study_results, on=\"Mouse ID\")\n",
    "combined_data.head()\n"
   ]
  },
  {
   "cell_type": "markdown",
   "metadata": {},
   "source": [
    "## Summary statistics"
   ]
  },
  {
   "cell_type": "code",
   "execution_count": 15,
   "metadata": {},
   "outputs": [
    {
     "data": {
      "text/html": [
       "<div>\n",
       "<style scoped>\n",
       "    .dataframe tbody tr th:only-of-type {\n",
       "        vertical-align: middle;\n",
       "    }\n",
       "\n",
       "    .dataframe tbody tr th {\n",
       "        vertical-align: top;\n",
       "    }\n",
       "\n",
       "    .dataframe thead th {\n",
       "        text-align: right;\n",
       "    }\n",
       "</style>\n",
       "<table border=\"1\" class=\"dataframe\">\n",
       "  <thead>\n",
       "    <tr style=\"text-align: right;\">\n",
       "      <th></th>\n",
       "      <th>Mean Tumor Volume (mm3)</th>\n",
       "      <th>Median Tumor Volume (mm3)</th>\n",
       "      <th>Tumor Volume Variance</th>\n",
       "      <th>Tumor Volume Std. Dev</th>\n",
       "      <th>Tumor Volume Std. Err</th>\n",
       "    </tr>\n",
       "    <tr>\n",
       "      <th>Drug Regimen</th>\n",
       "      <th></th>\n",
       "      <th></th>\n",
       "      <th></th>\n",
       "      <th></th>\n",
       "      <th></th>\n",
       "    </tr>\n",
       "  </thead>\n",
       "  <tbody>\n",
       "    <tr>\n",
       "      <td>Capomulin</td>\n",
       "      <td>40.675741</td>\n",
       "      <td>41.557809</td>\n",
       "      <td>24.947764</td>\n",
       "      <td>4.994774</td>\n",
       "      <td>0.329346</td>\n",
       "    </tr>\n",
       "    <tr>\n",
       "      <td>Ceftamin</td>\n",
       "      <td>52.591172</td>\n",
       "      <td>51.776157</td>\n",
       "      <td>39.290177</td>\n",
       "      <td>6.268188</td>\n",
       "      <td>0.469821</td>\n",
       "    </tr>\n",
       "    <tr>\n",
       "      <td>Infubinol</td>\n",
       "      <td>52.884795</td>\n",
       "      <td>51.820584</td>\n",
       "      <td>43.128684</td>\n",
       "      <td>6.567243</td>\n",
       "      <td>0.492236</td>\n",
       "    </tr>\n",
       "    <tr>\n",
       "      <td>Ketapril</td>\n",
       "      <td>55.235638</td>\n",
       "      <td>53.698743</td>\n",
       "      <td>68.553577</td>\n",
       "      <td>8.279709</td>\n",
       "      <td>0.603860</td>\n",
       "    </tr>\n",
       "    <tr>\n",
       "      <td>Naftisol</td>\n",
       "      <td>54.331565</td>\n",
       "      <td>52.509285</td>\n",
       "      <td>66.173479</td>\n",
       "      <td>8.134708</td>\n",
       "      <td>0.596466</td>\n",
       "    </tr>\n",
       "  </tbody>\n",
       "</table>\n",
       "</div>"
      ],
      "text/plain": [
       "              Mean Tumor Volume (mm3)  Median Tumor Volume (mm3)  \\\n",
       "Drug Regimen                                                       \n",
       "Capomulin                   40.675741                  41.557809   \n",
       "Ceftamin                    52.591172                  51.776157   \n",
       "Infubinol                   52.884795                  51.820584   \n",
       "Ketapril                    55.235638                  53.698743   \n",
       "Naftisol                    54.331565                  52.509285   \n",
       "\n",
       "              Tumor Volume Variance  Tumor Volume Std. Dev  \\\n",
       "Drug Regimen                                                 \n",
       "Capomulin                 24.947764               4.994774   \n",
       "Ceftamin                  39.290177               6.268188   \n",
       "Infubinol                 43.128684               6.567243   \n",
       "Ketapril                  68.553577               8.279709   \n",
       "Naftisol                  66.173479               8.134708   \n",
       "\n",
       "              Tumor Volume Std. Err  \n",
       "Drug Regimen                         \n",
       "Capomulin                  0.329346  \n",
       "Ceftamin                   0.469821  \n",
       "Infubinol                  0.492236  \n",
       "Ketapril                   0.603860  \n",
       "Naftisol                   0.596466  "
      ]
     },
     "execution_count": 15,
     "metadata": {},
     "output_type": "execute_result"
    }
   ],
   "source": [
    "# Generate a summary statistics table of mean, median, variance, standard deviation, and SEM of the tumor volume for each regimen\n",
    "\n",
    "new_df = combined_data.groupby(\"Drug Regimen\")\n",
    "mean_df = new_df[\"Tumor Volume (mm3)\"].mean()\n",
    "median_df = new_df[\"Tumor Volume (mm3)\"].median()\n",
    "variance_df = new_df[\"Tumor Volume (mm3)\"].var()\n",
    "std_df = new_df[\"Tumor Volume (mm3)\"].std()\n",
    "sem_df = new_df[\"Tumor Volume (mm3)\"].sem()\n",
    "item_name = new_df[\"Drug Regimen\"]\n",
    "\n",
    "\n",
    "\n",
    "statistical_summary={\"Mean Tumor Volume (mm3)\":mean_df,\n",
    "                    \"Median Tumor Volume (mm3)\":median_df,\n",
    "                    \"Tumor Volume Variance\":variance_df,\n",
    "                    \"Tumor Volume Std. Dev\":std_df,\n",
    "                    \"Tumor Volume Std. Err\":sem_df}\n",
    "\n",
    "#Convert to data frame\n",
    "statistical_summary_df = pd.DataFrame(statistical_summary)\n",
    "statistical_summary_df.head()"
   ]
  },
  {
   "cell_type": "code",
   "execution_count": 16,
   "metadata": {},
   "outputs": [
    {
     "data": {
      "text/html": [
       "<div>\n",
       "<style scoped>\n",
       "    .dataframe tbody tr th:only-of-type {\n",
       "        vertical-align: middle;\n",
       "    }\n",
       "\n",
       "    .dataframe tbody tr th {\n",
       "        vertical-align: top;\n",
       "    }\n",
       "\n",
       "    .dataframe thead th {\n",
       "        text-align: right;\n",
       "    }\n",
       "</style>\n",
       "<table border=\"1\" class=\"dataframe\">\n",
       "  <thead>\n",
       "    <tr style=\"text-align: right;\">\n",
       "      <th></th>\n",
       "      <th>mean</th>\n",
       "      <th>median</th>\n",
       "      <th>var</th>\n",
       "      <th>std</th>\n",
       "      <th>sem</th>\n",
       "    </tr>\n",
       "    <tr>\n",
       "      <th>Drug Regimen</th>\n",
       "      <th></th>\n",
       "      <th></th>\n",
       "      <th></th>\n",
       "      <th></th>\n",
       "      <th></th>\n",
       "    </tr>\n",
       "  </thead>\n",
       "  <tbody>\n",
       "    <tr>\n",
       "      <td>Capomulin</td>\n",
       "      <td>40.675741</td>\n",
       "      <td>41.557809</td>\n",
       "      <td>24.947764</td>\n",
       "      <td>4.994774</td>\n",
       "      <td>0.329346</td>\n",
       "    </tr>\n",
       "    <tr>\n",
       "      <td>Ceftamin</td>\n",
       "      <td>52.591172</td>\n",
       "      <td>51.776157</td>\n",
       "      <td>39.290177</td>\n",
       "      <td>6.268188</td>\n",
       "      <td>0.469821</td>\n",
       "    </tr>\n",
       "    <tr>\n",
       "      <td>Infubinol</td>\n",
       "      <td>52.884795</td>\n",
       "      <td>51.820584</td>\n",
       "      <td>43.128684</td>\n",
       "      <td>6.567243</td>\n",
       "      <td>0.492236</td>\n",
       "    </tr>\n",
       "    <tr>\n",
       "      <td>Ketapril</td>\n",
       "      <td>55.235638</td>\n",
       "      <td>53.698743</td>\n",
       "      <td>68.553577</td>\n",
       "      <td>8.279709</td>\n",
       "      <td>0.603860</td>\n",
       "    </tr>\n",
       "    <tr>\n",
       "      <td>Naftisol</td>\n",
       "      <td>54.331565</td>\n",
       "      <td>52.509285</td>\n",
       "      <td>66.173479</td>\n",
       "      <td>8.134708</td>\n",
       "      <td>0.596466</td>\n",
       "    </tr>\n",
       "  </tbody>\n",
       "</table>\n",
       "</div>"
      ],
      "text/plain": [
       "                   mean     median        var       std       sem\n",
       "Drug Regimen                                                     \n",
       "Capomulin     40.675741  41.557809  24.947764  4.994774  0.329346\n",
       "Ceftamin      52.591172  51.776157  39.290177  6.268188  0.469821\n",
       "Infubinol     52.884795  51.820584  43.128684  6.567243  0.492236\n",
       "Ketapril      55.235638  53.698743  68.553577  8.279709  0.603860\n",
       "Naftisol      54.331565  52.509285  66.173479  8.134708  0.596466"
      ]
     },
     "execution_count": 16,
     "metadata": {},
     "output_type": "execute_result"
    }
   ],
   "source": [
    "#Change the column names\n",
    "statistical_df = statistical_summary_df.rename(columns={\"Mean Tumor Volume (mm3)\":\"mean\",\n",
    "                                                      \"Median Tumor Volume (mm3)\":\"median\",\n",
    "                                                      \"Tumor Volume Variance\":\"var\",\n",
    "                                                      \"Tumor Volume Std. Dev\":\"std\",\n",
    "                                                      \"Tumor Volume Std. Err\":\"sem\"})\n",
    "statistical_df.head()"
   ]
  },
  {
   "cell_type": "markdown",
   "metadata": {},
   "source": [
    "## Bar plots"
   ]
  },
  {
   "cell_type": "code",
   "execution_count": 17,
   "metadata": {},
   "outputs": [
    {
     "data": {
      "text/plain": [
       "<matplotlib.axes._subplots.AxesSubplot at 0x2404a5fec88>"
      ]
     },
     "execution_count": 17,
     "metadata": {},
     "output_type": "execute_result"
    },
    {
     "data": {
      "image/png": "[encoded data removed]",
      "text/plain": [
       "<Figure size 1440x216 with 1 Axes>"
      ]
     },
     "metadata": {
      "needs_background": "light"
     },
     "output_type": "display_data"
    }
   ],
   "source": [
    "# Generate a bar plot showing number of data points for each treatment regimen using pandas\n",
    "\n",
    "#Filter the dataframe down to only those columns to chart\n",
    "count_data = new_df[\"Drug Regimen\"].count()\n",
    "\n",
    "#Create two lists of the data we are going to pass into a new data frame\n",
    "names = []\n",
    "count = []\n",
    "for n,c in count_data.items():\n",
    "    names.append(n)\n",
    "    count.append(c)\n",
    "\n",
    "#Create the dataframe\n",
    "count_df = {\"Drug Regimen\":names,\"Count\":count}\n",
    "count_df = pd.DataFrame(count_df)\n",
    "\n",
    "\n",
    "#Set the index to be Drug REgimen so they will be used as labels\n",
    "count_df = count_df.set_index(\"Drug Regimen\")\n",
    "\n",
    "#Sort the data frame becasue we want it to look pretty\n",
    "count_df = count_df.sort_values(by=[\"Count\"], ascending = False)\n",
    "\n",
    "#Use DataFrame.plot() in order to create a bar chart of the data\n",
    "count_df.plot(kind=\"bar\", figsize=(20,3))\n"
   ]
  },
  {
   "cell_type": "code",
   "execution_count": 18,
   "metadata": {},
   "outputs": [
    {
     "data": {
      "image/png": "[encoded data removed]",
      "text/plain": [
       "<Figure size 1440x216 with 1 Axes>"
      ]
     },
     "metadata": {
      "needs_background": "light"
     },
     "output_type": "display_data"
    }
   ],
   "source": [
    "# Generate a bar plot showing number of data points for each treatment regimen using pyplot\n",
    "\n",
    "#Filter the dataframe down to only those columns to chart\n",
    "count_data = new_df[\"Drug Regimen\"].count()\n",
    "\n",
    "#Create two lists of the data we are going to pass into a new data frame\n",
    "names = []\n",
    "count = []\n",
    "for n,c in count_data.items():\n",
    "    names.append(n)\n",
    "    count.append(c)\n",
    "\n",
    "#Create the dataframe\n",
    "count_df = {\"Drug Regimen\":names,\"Count\":count}\n",
    "count_df = pd.DataFrame(count_df)\n",
    "\n",
    "#Sort the dataframe\n",
    "count_df = count_df.sort_values(by=[\"Count\"], ascending = False)\n",
    "\n",
    "#Start the plotting stuff\n",
    "x_axis = np.arange(len(count_df))\n",
    "tick_locations = [value for value in x_axis]\n",
    "\n",
    "plt.figure(figsize=(20,3))\n",
    "plt.bar(x_axis,count_df[\"Count\"], color = 'r', alpha = 0.5, align = \"center\")\n",
    "plt.xticks(tick_locations, count_df[\"Drug Regimen\"],rotation = \"vertical\")\n",
    "plt.xlim(-0.75,len(x_axis))\n",
    "plt.ylim(0,max(count_df[\"Count\"])+10)\n",
    "plt.title(\"Title\")\n",
    "plt.xlabel(\"Drug Regimen Count\")\n",
    "plt.ylabel(\"Y_Axis\")\n",
    "plt.show()\n",
    "\n"
   ]
  },
  {
   "cell_type": "markdown",
   "metadata": {},
   "source": [
    "## Pie plots"
   ]
  },
  {
   "cell_type": "code",
   "execution_count": 19,
   "metadata": {},
   "outputs": [
    {
     "data": {
      "image/png": "[encoded data removed]",
      "text/plain": [
       "<Figure size 432x288 with 1 Axes>"
      ]
     },
     "metadata": {},
     "output_type": "display_data"
    }
   ],
   "source": [
    "# Generate a pie plot showing the distribution of female versus male mice using pandas\n",
    "gender_groups = combined_data.groupby('Sex')\n",
    "gender_trips = gender_groups['Sex'].count()\n",
    "\n",
    "#Create the list that we will need in order to pass it through to the data frame\n",
    "names = []\n",
    "counts = []\n",
    "for n,c in gender_trips.items():\n",
    "    names.append(n)\n",
    "    counts.append(c)\n",
    "\n",
    "#Create the dataframe\n",
    "mice_gender_df = {\"Gender\":names,\"Count\":counts}\n",
    "mice_gender_df = pd.DataFrame(mice_gender_df)\n",
    "mice_gender_df.head()\n",
    "\n",
    "\n",
    "#Set the index to gender so we can use it as labels\n",
    "mice_gender_df = mice_gender_df.set_index(\"Gender\")\n",
    "\n",
    "#Create the list of informaiton that we want a pie made out of\n",
    "gender_list = mice_gender_df.keys()\n",
    "\n",
    "#Code for making a pie, not from scratch this is definitely from the frozen food section\n",
    "gender_pie = mice_gender_df.plot(kind=\"pie\", y=gender_list)\n",
    "gender_pie.set_ylabel(\"Gender\")\n",
    "plt.tight_layout()\n",
    "\n",
    "plt.show()\n"
   ]
  },
  {
   "cell_type": "code",
   "execution_count": 20,
   "metadata": {},
   "outputs": [
    {
     "data": {
      "text/plain": [
       "(-1.104561372365897,\n",
       " 1.1002172082078998,\n",
       " -1.1027130801595113,\n",
       " 1.1051728496244888)"
      ]
     },
     "execution_count": 20,
     "metadata": {},
     "output_type": "execute_result"
    },
    {
     "data": {
      "image/png": "[encoded data removed]",
      "text/plain": [
       "<Figure size 432x288 with 1 Axes>"
      ]
     },
     "metadata": {},
     "output_type": "display_data"
    }
   ],
   "source": [
    "# Generate a pie plot showing the distribution of female versus male mice using pyplot\n",
    "gender_groups = combined_data.groupby('Sex')\n",
    "gender_trips = gender_groups['Sex'].count() #or count_value\n",
    "\n",
    "#Create the list that we will need in order to pass it through to the data frame\n",
    "names = []\n",
    "counts = []\n",
    "for n,c in gender_trips.items():\n",
    "    names.append(n)\n",
    "    counts.append(c)\n",
    "\n",
    "explode=(0,0)\n",
    "plt.pie(counts,explode=explode,labels=names,colors=[\"red\",\"lightskyblue\"],autopct=\"%1.1f%%\", shadow = True, startangle = 360)\n",
    "plt.axis(\"equal\")"
   ]
  },
  {
   "cell_type": "markdown",
   "metadata": {},
   "source": [
    "## Quartiles, outliers and boxplots"
   ]
  },
  {
   "cell_type": "code",
   "execution_count": 107,
   "metadata": {},
   "outputs": [
    {
     "name": "stdout",
     "output_type": "stream",
     "text": [
      "9.098536719999998\n",
      "11.477135160000003\n",
      "15.577752179999997\n"
     ]
    }
   ],
   "source": [
    "# Calculate the final tumor volume of each mouse across four of the most promising treatment regimens. \n",
    "# Calculate the IQR and quantitatively determine if there are any potential outliers. \n",
    "\n",
    "# Pass to a new data set that is ordred\n",
    "# If you want to sort on multiple things you need to give it a list []\n",
    "# If you want to send in one list then you dont have to delcare it as a list if you want one item sort\n",
    "new_sorted_data = combined_data.sort_values([\"Mouse ID\",\"Timepoint\"], ascending = False)\n",
    "\n",
    "#This the max tumor volume from each mouse\n",
    "max_time = new_sorted_data.drop_duplicates(subset=\"Mouse ID\", keep=\"first\")\n",
    "\n",
    "#Limit by the drug regimen\n",
    "top_drugs = max_time.loc[(max_time[\"Drug Regimen\"] == \"Capomulin\") | (max_time[\"Drug Regimen\"] == \"Ramicane\") | (max_time[\"Drug Regimen\"] == \"Infubinol\") | (max_time[\"Drug Regimen\"] == \"Ceftamin\"), :]\n",
    "\n",
    "#Get down to tumor volume in one data frame so we can calcualte iqr\n",
    "capomulin_max = max_time.loc[max_time[\"Drug Regimen\"] == \"Capomulin\", :]\n",
    "capomulin_tumor_volume = capomulin_max[\"Tumor Volume (mm3)\"] #pull out only the information that you want to reduce the series down by\n",
    "capomulin_quartiles = capomulin_tumor_volume.quantile([0.25,0.5,0.75])\n",
    "capomulin_lowerq = capomulin_quartiles[0.25]\n",
    "capomulin_upperq = capomulin_quartiles[0.75]\n",
    "capomulin_iqr = capomulin_upperq - capomulin_lowerq\n",
    "\n",
    "#Get down to tumor volume in one data frame so we can calcualte iqr\n",
    "Ramicane_max = max_time.loc[max_time[\"Drug Regimen\"] == \"Ramicane\", :]\n",
    "Ramicane_tumor_volume = Ramicane_max[\"Tumor Volume (mm3)\"]\n",
    "Ramicane_quartiles = Ramicane_tumor_volume.quantile([0.25,0.5,0.75])\n",
    "Ramicane_lowerq = Ramicane_quartiles[0.25]\n",
    "Ramicane_upperq = Ramicane_quartiles[0.75]\n",
    "Ramicane_iqr = Ramicane_upperq - Ramicane_lowerq\n",
    "\n",
    "#Get down to tumor volume in one data frame so we can calcualte iqr\n",
    "Infubinol_max = max_time.loc[max_time[\"Drug Regimen\"] == \"Infubinol\", :]\n",
    "Infubinol_tumor_volume = Infubinol_max[\"Tumor Volume (mm3)\"]\n",
    "Infubinol_quartiles = Infubinol_tumor_volume.quantile([0.25,0.5,0.75])\n",
    "Infubinol_lowerq = Infubinol_quartiles[0.25]\n",
    "Infubinol_upperq = Infubinol_quartiles[0.75]\n",
    "Infubinol_iqr = Infubinol_upperq - Infubinol_lowerq\n",
    "\n",
    "#Get down to tumor volume in one data frame so we can calcualte iqr\n",
    "Ceftamin_max = max_time.loc[max_time[\"Drug Regimen\"] == \"Ceftamin\", :]\n",
    "Ceftamin_tumor_volume = Ceftamin_max[\"Tumor Volume (mm3)\"]\n",
    "Ceftamin_quartiles = Ceftamin_tumor_volume.quantile([0.25,0.5,0.75])\n",
    "Ceftamin_lowerq = Ceftamin_quartiles[0.25]\n",
    "Ceftamin_upperq = Ceftamin_quartiles[0.75]\n",
    "Ceftamin_iqr = Ceftamin_upperq - Ceftamin_lowerq\n",
    "\n",
    "#print(capomulin_iqr)\n",
    "#print(Ramicane_iqr)\n",
    "#print(Infubinol_iqr)\n",
    "#print(Ceftamin_iqr)\n",
    "\n",
    "\n",
    "#capomulin_tumor_volume.head()\n",
    "# Do the group by in order to do math on a certaing group by\n",
    "# Creat a re-usable object to do math on\n",
    "\n"
   ]
  },
  {
   "cell_type": "code",
   "execution_count": 110,
   "metadata": {},
   "outputs": [
    {
     "data": {
      "image/png": "[encoded data removed]",
      "text/plain": [
       "<Figure size 432x288 with 1 Axes>"
      ]
     },
     "metadata": {
      "needs_background": "light"
     },
     "output_type": "display_data"
    }
   ],
   "source": [
    "# Generate a box plot of the final tumor volume of each mouse across four regimens of interest\n",
    "fig1,ax1 = plt.subplots()\n",
    "ax1.set_ylabel(\"Final Tumor Volume\")\n",
    "labels = [\"Capomulin\",\"Ramicane\",\"Infubionl\",\"Ceftamin\"]\n",
    "ax1.boxplot([capomulin_tumor_volume,Ramicane_tumor_volume,Infubinol_tumor_volume,Ceftamin_tumor_volume],labels=labels)\n",
    "plt.show()"
   ]
  },
  {
   "cell_type": "markdown",
   "metadata": {},
   "source": [
    "## Line and scatter plots"
   ]
  },
  {
   "cell_type": "code",
   "execution_count": 23,
   "metadata": {},
   "outputs": [
    {
     "data": {
      "text/plain": [
       "Text(0.5, 0, 'Timepoint (days)')"
      ]
     },
     "execution_count": 23,
     "metadata": {},
     "output_type": "execute_result"
    },
    {
     "data": {
      "image/png": "[encoded data removed]",
      "text/plain": [
       "<Figure size 432x288 with 1 Axes>"
      ]
     },
     "metadata": {
      "needs_background": "light"
     },
     "output_type": "display_data"
    }
   ],
   "source": [
    "# Generate a line plot of time point versus tumor volume for a mouse treated with Capomulin\n",
    "\n",
    "#Only capomulin\n",
    "#data frame with Tumor Volume and timepoint\n",
    "\n",
    "#Get a data frame and filter down the data to one mouse\n",
    "capomulin = combined_data[[\"Drug Regimen\",\"Tumor Volume (mm3)\",\"Timepoint\",\"Mouse ID\"]]\n",
    "#filter down to one drug\n",
    "capomulin = capomulin.loc[capomulin[\"Drug Regimen\"] == \"Capomulin\", :]\n",
    "#filter down to one mouse\n",
    "capomulin = capomulin.loc[capomulin[\"Mouse ID\"] == \"j119\", :]\n",
    "\n",
    "#Pass the data frame to only include x and y\n",
    "data = capomulin[[\"Timepoint\",\"Tumor Volume (mm3)\"]]\n",
    "#here we pass the data and remove the data frame functionality\n",
    "timepoint = capomulin[\"Timepoint\"]\n",
    "#pass more data to remove the data frame functionality\n",
    "volume = capomulin[\"Tumor Volume (mm3)\"]\n",
    "\n",
    "#Create a blank list to push the above items to\n",
    "x_axis = []\n",
    "y_axis = []\n",
    "\n",
    "#append to the list from the data set above\n",
    "for i,c in timepoint.items():\n",
    "    x_axis.append(c)\n",
    "#append to the list from the data set above\n",
    "for i,c in volume.items():\n",
    "    y_axis.append(c)\n",
    "\n",
    "#plot the items using the below method\n",
    "plt.plot(x_axis,y_axis)\n",
    "plt.title(\"Capomulin treatemnt of j119\")\n",
    "plt.ylabel(\"Tumor Volume (mm3)\")\n",
    "plt.xlabel(\"Timepoint (days)\")\n"
   ]
  },
  {
   "cell_type": "code",
   "execution_count": 24,
   "metadata": {},
   "outputs": [
    {
     "data": {
      "text/plain": [
       "Text(0.5, 0, 'Weight (g)')"
      ]
     },
     "execution_count": 24,
     "metadata": {},
     "output_type": "execute_result"
    },
    {
     "data": {
      "image/png": "[encoded data removed]",
      "text/plain": [
       "<Figure size 432x288 with 1 Axes>"
      ]
     },
     "metadata": {
      "needs_background": "light"
     },
     "output_type": "display_data"
    }
   ],
   "source": [
    "# Generate a scatter plot of mouse weight versus average tumor volume for the Capomulin regimen\n",
    "\n",
    "\n",
    "#Get a data frame and filter down the data to one mouse\n",
    "capomulin = combined_data[[\"Drug Regimen\",\"Tumor Volume (mm3)\",\"Timepoint\",\"Mouse ID\",\"Weight (g)\"]]\n",
    "#filter down to one drug\n",
    "capomulin = capomulin.loc[capomulin[\"Drug Regimen\"] == \"Capomulin\", :]\n",
    "\n",
    "#Pass the data frame to only include x and y\n",
    "data = capomulin[[\"Weight (g)\",\"Tumor Volume (mm3)\"]]\n",
    "\n",
    "\n",
    "#here we pass the data and remove the data frame functionality\n",
    "timepoint = capomulin[\"Weight (g)\"]\n",
    "#pass more data to remove the data frame functionality\n",
    "volume = capomulin[\"Tumor Volume (mm3)\"]\n",
    "\n",
    "#Create a blank list to push the above items to\n",
    "x_axis = []\n",
    "y_axis = []\n",
    "\n",
    "#append to the list from the data set above\n",
    "for i,c in timepoint.items():\n",
    "    x_axis.append(c)\n",
    "#append to the list from the data set above\n",
    "for i,c in volume.items():\n",
    "    y_axis.append(c)\n",
    "\n",
    "#plot the items using the below method\n",
    "plt.scatter(x_axis,y_axis)\n",
    "plt.ylabel(\"Tumor Volume (mm3)\")\n",
    "plt.xlabel(\"Weight (g)\")\n",
    "\n",
    "\n",
    "\n",
    "\n",
    "\n",
    "\n",
    "#Didn't work with grouping\n",
    "\n",
    "#Here I'm trying to pass the average weight to an x\n",
    "\n",
    "#x_axis_df = data.groupby(\"Weight (g)\").mean()\n",
    "#print(len(x_axis_df))\n",
    "#y_axis_df = data.groupby(\"Weight (g)\").mean()[\"Tumor Volume (mm3)\"]\n",
    "#print(len(y_axis_df))\n",
    "#print(x_axis_df)\n",
    "\n",
    "#Create a blank list to push the above items to\n",
    "#x_axis = []\n",
    "#y_axis = []\n",
    "\n",
    "#append to the list from the data set above\n",
    "#for i,c in x_axis_df.items():\n",
    "#    x_axis.append(c)\n",
    "#append to the list from the data set above\n",
    "#for i,c in y_axis_df.items():\n",
    "#    y_axis.append(c)\n",
    "\n",
    "#print(x_axis)\n",
    "#plot the items using the below method\n",
    "#plt.scatter(x_axis,y_axis)\n",
    "#plt.ylabel(\"Tumor Volume (mm3)\")\n",
    "#plt.xlabel(\"Weight (g)\")\n",
    "\n"
   ]
  },
  {
   "cell_type": "code",
   "execution_count": 53,
   "metadata": {},
   "outputs": [
    {
     "name": "stdout",
     "output_type": "stream",
     "text": [
      "The rvalue for this set of data is 0.53\n",
      "y =0.96x +21.49\n"
     ]
    },
    {
     "data": {
      "image/png": "[encoded data removed]",
      "text/plain": [
       "<Figure size 432x288 with 1 Axes>"
      ]
     },
     "metadata": {
      "needs_background": "light"
     },
     "output_type": "display_data"
    }
   ],
   "source": [
    "# Calculate the correlation coefficient and linear regression model for mouse weight and average tumor volume for the Capomulin regimen\n",
    "\n",
    "#Perform a linear regression on temperature vs latitude\n",
    "(slope, intercept, rvalue, pvalue, stderr) = st.linregress(timepoint,volume)\n",
    "\n",
    "print(f\"The rvalue for this set of data is {round(rvalue,2)}\")\n",
    "\n",
    "regress_values = timepoint * slope + intercept\n",
    "#print(regress_values)\n",
    "\n",
    "line_eq = \"y =\" + str(round(slope,2)) + \"x +\" + str(round(intercept,2))\n",
    "print(line_eq)\n",
    "\n",
    "plt.scatter(timepoint,volume)\n",
    "plt.plot(timepoint,regress_values,\"r-\")\n",
    "#plt.label(\"Label here\")\n",
    "plt.xlabel(\"Weight\")\n",
    "plt.ylabel(\"Volume\")\n",
    "plt.annotate(line_eq,(21,23),fontsize=15,color=\"red\")\n",
    "plt.show()\n"
   ]
  },
  {
   "cell_type": "code",
   "execution_count": null,
   "metadata": {},
   "outputs": [],
   "source": [
    "\n"
   ]
  },
  {
   "cell_type": "code",
   "execution_count": null,
   "metadata": {},
   "outputs": [],
   "source": []
  },
  {
   "cell_type": "code",
   "execution_count": null,
   "metadata": {},
   "outputs": [],
   "source": []
  }
 ],
 "metadata": {
  "anaconda-cloud": {},
  "kernelspec": {
   "display_name": "Python 3",
   "language": "python",
   "name": "python3"
  },
  "language_info": {
   "codemirror_mode": {
    "name": "ipython",
    "version": 3
   },
   "file_extension": ".py",
   "mimetype": "text/x-python",
   "name": "python",
   "nbconvert_exporter": "python",
   "pygments_lexer": "ipython3",
   "version": "3.7.4"
  }
 },
 "nbformat": 4,
 "nbformat_minor": 4
}
